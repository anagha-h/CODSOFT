{
  "cells": [
    {
      "cell_type": "markdown",
      "metadata": {
        "id": "A67Rj9lKs-ic"
      },
      "source": [
        "Importing Libraries"
      ]
    },
    {
      "cell_type": "code",
      "execution_count": null,
      "metadata": {
        "colab": {
          "base_uri": "https://localhost:8080/"
        },
        "id": "lIcKZgn0tA87",
        "outputId": "f5819122-2cc2-48fd-bcba-3171440f5fab"
      },
      "outputs": [
        {
          "name": "stderr",
          "output_type": "stream",
          "text": [
            "[nltk_data] Downloading package punkt to /root/nltk_data...\n",
            "[nltk_data]   Package punkt is already up-to-date!\n",
            "[nltk_data] Downloading package stopwords to /root/nltk_data...\n",
            "[nltk_data]   Package stopwords is already up-to-date!\n",
            "[nltk_data] Downloading package wordnet to /root/nltk_data...\n",
            "[nltk_data]   Package wordnet is already up-to-date!\n"
          ]
        },
        {
          "data": {
            "text/plain": [
              "True"
            ]
          },
          "execution_count": 1,
          "metadata": {},
          "output_type": "execute_result"
        }
      ],
      "source": [
        "import pandas as pd\n",
        "import numpy as np\n",
        "import matplotlib.pyplot as plt\n",
        "import seaborn as sns\n",
        "import re\n",
        "from nltk.tokenize import word_tokenize\n",
        "from nltk.stem import WordNetLemmatizer\n",
        "from nltk.corpus import stopwords\n",
        "from wordcloud import WordCloud\n",
        "import nltk\n",
        "nltk.download('punkt')\n",
        "nltk.download('stopwords')\n",
        "nltk.download('wordnet')"
      ]
    },
    {
      "cell_type": "markdown",
      "metadata": {
        "id": "ehdVIK2kt00a"
      },
      "source": [
        "Data Collection"
      ]
    },
    {
      "cell_type": "code",
      "execution_count": null,
      "metadata": {
        "id": "3s7LAPFPuGir"
      },
      "outputs": [],
      "source": [
        "train_data = pd.read_csv(\"train_data.txt\", delimiter=':::', header = None, engine='python')\n",
        "test_data  = pd.read_csv(\"test_data.txt\", delimiter=':::', header = None, engine='python')\n",
        "test_data_solution  = pd.read_csv(\"test_data_solution.txt\", delimiter=':::' ,header = None ,engine='python')\n",
        "\n",
        "df = pd.concat((train_data ,test_data_solution))\n",
        "df.columns = [\"id\", \"Title\", \"Genre\", \"Description\"]"
      ]
    },
    {
      "cell_type": "markdown",
      "metadata": {
        "id": "M8CwqsPxusdj"
      },
      "source": [
        "Data Preprocessing"
      ]
    },
    {
      "cell_type": "code",
      "execution_count": null,
      "metadata": {
        "id": "BEkuy8KXuwh9"
      },
      "outputs": [],
      "source": [
        "#drop duplicates\n",
        "df.drop_duplicates(inplace = True)\n",
        "\n",
        "#drop nan values\n",
        "df.dropna(inplace = True)"
      ]
    },
    {
      "cell_type": "code",
      "execution_count": null,
      "metadata": {
        "id": "UqIQ_BiRvGQ5"
      },
      "outputs": [],
      "source": [
        "stopword = set(stopwords.words('english'))\n",
        "\n",
        "def preprocessing(text):\n",
        "    text = text.lower()\n",
        "\n",
        "    text = re.sub(r'[^\\w\\s]', '', text)\n",
        "\n",
        "    text = re.sub(r'[#@\\$]', '', text)\n",
        "\n",
        "    tokens = word_tokenize(text)\n",
        "\n",
        "    lemmatizer  = WordNetLemmatizer()\n",
        "\n",
        "    text = text.split()\n",
        "\n",
        "    text = [word for word in text if word not in stopword]\n",
        "\n",
        "    return \" \".join(text)"
      ]
    },
    {
      "cell_type": "code",
      "execution_count": null,
      "metadata": {
        "id": "GEbahPnXvVUL"
      },
      "outputs": [],
      "source": [
        "df[\"Despcription_clean\"] =  df[\"Description\"].apply(preprocessing)"
      ]
    },
    {
      "cell_type": "markdown",
      "metadata": {
        "id": "SYT7YVxYvdtM"
      },
      "source": [
        "Feature Engineering"
      ]
    },
    {
      "cell_type": "code",
      "execution_count": null,
      "metadata": {
        "id": "YHJY1qLBvfRT"
      },
      "outputs": [],
      "source": [
        "#dropping unnecessary columns\n",
        "data = df.drop([\"Title\", \"id\"], axis = 1)"
      ]
    },
    {
      "cell_type": "markdown",
      "metadata": {
        "id": "mXDZK6KxvxEK"
      },
      "source": [
        "Model"
      ]
    },
    {
      "cell_type": "code",
      "execution_count": null,
      "metadata": {
        "id": "1AyEX6Qwvzl0"
      },
      "outputs": [],
      "source": [
        "from sklearn.linear_model import LogisticRegression\n",
        "from sklearn.svm import LinearSVC\n",
        "from sklearn.naive_bayes import MultinomialNB\n",
        "from sklearn.ensemble import RandomForestClassifier\n",
        "\n",
        "from sklearn.feature_extraction.text import CountVectorizer\n",
        "from sklearn.feature_extraction.text import TfidfVectorizer\n",
        "\n",
        "from sklearn.model_selection import train_test_split\n",
        "\n",
        "from sklearn.metrics import classification_report,confusion_matrix,ConfusionMatrixDisplay"
      ]
    },
    {
      "cell_type": "code",
      "execution_count": null,
      "metadata": {
        "id": "ibXeiwXZwA6h"
      },
      "outputs": [],
      "source": [
        "#Convert genre labels to numerical values for modeling\n",
        "from sklearn.preprocessing import LabelEncoder\n",
        "label_encoder = LabelEncoder()\n",
        "data['Genre_encoded'] = label_encoder.fit_transform(data['Genre'])\n",
        "data['Genre_encoded']\n",
        "\n",
        "class_names= list(label_encoder.classes_)"
      ]
    },
    {
      "cell_type": "markdown",
      "metadata": {
        "id": "xFEcwhg3wNxK"
      },
      "source": [
        "Train Test Split"
      ]
    },
    {
      "cell_type": "code",
      "execution_count": null,
      "metadata": {
        "id": "o7PKAHpfwImE"
      },
      "outputs": [],
      "source": [
        "x = data[\"Despcription_clean\"]\n",
        "y = data[\"Genre\"]\n",
        "\n",
        "x_train, x_test, y_train, y_test = train_test_split(x, y, test_size = 0.5)"
      ]
    },
    {
      "cell_type": "markdown",
      "metadata": {
        "id": "BM9wt6z9wfrK"
      },
      "source": [
        "Vectorizing"
      ]
    },
    {
      "cell_type": "code",
      "execution_count": null,
      "metadata": {
        "id": "fwUyzwm5web0"
      },
      "outputs": [],
      "source": [
        "vectorize = CountVectorizer()\n",
        "x_train1 = vectorize.fit_transform(x_train)\n",
        "x_test1 =  vectorize.transform(x_test)"
      ]
    },
    {
      "cell_type": "code",
      "execution_count": null,
      "metadata": {
        "colab": {
          "base_uri": "https://localhost:8080/"
        },
        "id": "4Gjreww6wlOa",
        "outputId": "04f95f52-b2d9-43be-bf7d-1ffd9da1e1ce"
      },
      "outputs": [
        {
          "name": "stdout",
          "output_type": "stream",
          "text": [
            "Model Score on Training data 0.6389580681461804\n",
            "Model Score on Training data 0.5252827125647979\n"
          ]
        },
        {
          "name": "stderr",
          "output_type": "stream",
          "text": [
            "/usr/local/lib/python3.10/dist-packages/sklearn/metrics/_classification.py:1344: UndefinedMetricWarning: Recall and F-score are ill-defined and being set to 0.0 in labels with no true samples. Use `zero_division` parameter to control this behavior.\n",
            "  _warn_prf(average, modifier, msg_start, len(result))\n",
            "/usr/local/lib/python3.10/dist-packages/sklearn/metrics/_classification.py:1344: UndefinedMetricWarning: Recall and F-score are ill-defined and being set to 0.0 in labels with no true samples. Use `zero_division` parameter to control this behavior.\n",
            "  _warn_prf(average, modifier, msg_start, len(result))\n"
          ]
        },
        {
          "name": "stdout",
          "output_type": "stream",
          "text": [
            "               precision    recall  f1-score   support\n",
            "\n",
            "      action        0.03      0.69      0.06        58\n",
            "       adult        0.03      0.51      0.06        35\n",
            "   adventure        0.03      0.52      0.06        52\n",
            "   animation        0.00      0.00      0.00         0\n",
            "   biography        0.00      0.00      0.00         0\n",
            "      comedy        0.44      0.53      0.48      6217\n",
            "       crime        0.00      0.00      0.00         0\n",
            " documentary        0.90      0.57      0.70     20874\n",
            "       drama        0.83      0.46      0.59     24428\n",
            "      family        0.00      1.00      0.01         2\n",
            "     fantasy        0.00      0.00      0.00        13\n",
            "   game-show        0.13      1.00      0.24        25\n",
            "     history        0.00      0.00      0.00         0\n",
            "      horror        0.30      0.74      0.42       854\n",
            "       music        0.04      0.75      0.08        40\n",
            "     musical        0.00      1.00      0.01         1\n",
            "     mystery        0.00      0.00      0.00         0\n",
            "        news        0.00      0.00      0.00         0\n",
            "  reality-tv        0.01      0.67      0.01         9\n",
            "     romance        0.00      0.00      0.00         0\n",
            "      sci-fi        0.01      0.80      0.01         5\n",
            "       short        0.12      0.67      0.21       909\n",
            "       sport        0.11      0.78      0.19        60\n",
            "   talk-show        0.00      0.00      0.00         0\n",
            "    thriller        0.00      0.33      0.01        21\n",
            "         war        0.00      0.00      0.00         0\n",
            "     western        0.56      0.98      0.71       604\n",
            "\n",
            "     accuracy                           0.53     54207\n",
            "    macro avg       0.13      0.44      0.14     54207\n",
            " weighted avg       0.78      0.53      0.61     54207\n",
            "\n"
          ]
        },
        {
          "name": "stderr",
          "output_type": "stream",
          "text": [
            "/usr/local/lib/python3.10/dist-packages/sklearn/metrics/_classification.py:1344: UndefinedMetricWarning: Recall and F-score are ill-defined and being set to 0.0 in labels with no true samples. Use `zero_division` parameter to control this behavior.\n",
            "  _warn_prf(average, modifier, msg_start, len(result))\n"
          ]
        }
      ],
      "source": [
        "mnb = MultinomialNB()\n",
        "mnb.fit(x_train1 ,y_train)\n",
        "print(\"Model Score on Training data\",mnb.score(x_train1 ,y_train))\n",
        "print(\"Model Score on Training data\",mnb.score(x_test1 ,y_test))\n",
        "y_pred = mnb.predict(x_test1)\n",
        "\n",
        "print(classification_report(y_pred ,y_test))"
      ]
    },
    {
      "cell_type": "code",
      "execution_count": null,
      "metadata": {
        "colab": {
          "base_uri": "https://localhost:8080/"
        },
        "id": "RjI-hF6-wxrU",
        "outputId": "46c7bfc2-5fc5-4113-dd70-40819b8714dc"
      },
      "outputs": [
        {
          "name": "stderr",
          "output_type": "stream",
          "text": [
            "/usr/local/lib/python3.10/dist-packages/sklearn/linear_model/_logistic.py:458: ConvergenceWarning: lbfgs failed to converge (status=1):\n",
            "STOP: TOTAL NO. of ITERATIONS REACHED LIMIT.\n",
            "\n",
            "Increase the number of iterations (max_iter) or scale the data as shown in:\n",
            "    https://scikit-learn.org/stable/modules/preprocessing.html\n",
            "Please also refer to the documentation for alternative solver options:\n",
            "    https://scikit-learn.org/stable/modules/linear_model.html#logistic-regression\n",
            "  n_iter_i = _check_optimize_result(\n"
          ]
        },
        {
          "name": "stdout",
          "output_type": "stream",
          "text": [
            "Model Score on Training data 0.9969745604811187\n",
            "Model Score on Training data 0.5719187558802369\n",
            "               precision    recall  f1-score   support\n",
            "\n",
            "      action        0.32      0.42      0.37      1044\n",
            "       adult        0.40      0.59      0.47       376\n",
            "   adventure        0.24      0.39      0.30       474\n",
            "   animation        0.16      0.38      0.22       203\n",
            "   biography        0.01      0.05      0.01        39\n",
            "      comedy        0.58      0.54      0.56      7966\n",
            "       crime        0.09      0.20      0.12       231\n",
            " documentary        0.79      0.71      0.75     14590\n",
            "       drama        0.69      0.56      0.62     16592\n",
            "      family        0.17      0.35      0.23       391\n",
            "     fantasy        0.10      0.30      0.15       108\n",
            "   game-show        0.58      0.80      0.67       136\n",
            "     history        0.02      0.14      0.04        42\n",
            "      horror        0.59      0.61      0.60      2081\n",
            "       music        0.52      0.64      0.57       599\n",
            "     musical        0.09      0.30      0.14        88\n",
            "     mystery        0.07      0.26      0.12        92\n",
            "        news        0.15      0.45      0.23        62\n",
            "  reality-tv        0.29      0.44      0.35       593\n",
            "     romance        0.12      0.29      0.17       288\n",
            "      sci-fi        0.34      0.48      0.40       441\n",
            "       short        0.39      0.39      0.39      5071\n",
            "       sport        0.39      0.64      0.49       268\n",
            "   talk-show        0.24      0.53      0.33       184\n",
            "    thriller        0.21      0.27      0.24      1220\n",
            "         war        0.16      0.51      0.25        43\n",
            "     western        0.81      0.88      0.84       985\n",
            "\n",
            "     accuracy                           0.57     54207\n",
            "    macro avg       0.32      0.45      0.36     54207\n",
            " weighted avg       0.62      0.57      0.59     54207\n",
            "\n"
          ]
        }
      ],
      "source": [
        "model = LogisticRegression()\n",
        "model.fit(x_train1 ,y_train)\n",
        "print(\"Model Score on Training data\",model.score(x_train1 ,y_train))\n",
        "print(\"Model Score on Training data\",model.score(x_test1 ,y_test))\n",
        "y_pred = model.predict(x_test1)\n",
        "print(classification_report(y_pred ,y_test))"
      ]
    },
    {
      "cell_type": "code",
      "execution_count": null,
      "metadata": {
        "colab": {
          "base_uri": "https://localhost:8080/"
        },
        "id": "fFLWli25w2n7",
        "outputId": "d5490587-c697-4592-92f5-a4f198ecd039"
      },
      "outputs": [
        {
          "name": "stderr",
          "output_type": "stream",
          "text": [
            "/usr/local/lib/python3.10/dist-packages/sklearn/svm/_base.py:1244: ConvergenceWarning: Liblinear failed to converge, increase the number of iterations.\n",
            "  warnings.warn(\n"
          ]
        },
        {
          "name": "stdout",
          "output_type": "stream",
          "text": [
            "Model Score on Training data 0.9994834615455569\n",
            "Model Score on Training data 0.520652314276754\n",
            "               precision    recall  f1-score   support\n",
            "\n",
            "      action        0.28      0.32      0.30      1174\n",
            "       adult        0.40      0.49      0.44       459\n",
            "   adventure        0.23      0.31      0.26       580\n",
            "   animation        0.16      0.26      0.20       296\n",
            "   biography        0.01      0.02      0.02       135\n",
            "      comedy        0.53      0.50      0.51      7870\n",
            "       crime        0.09      0.13      0.10       350\n",
            " documentary        0.72      0.70      0.71     13611\n",
            "       drama        0.61      0.54      0.57     15267\n",
            "      family        0.17      0.25      0.21       548\n",
            "     fantasy        0.11      0.16      0.13       215\n",
            "   game-show        0.58      0.68      0.63       158\n",
            "     history        0.03      0.06      0.04       108\n",
            "      horror        0.56      0.52      0.54      2272\n",
            "       music        0.49      0.57      0.53       633\n",
            "     musical        0.08      0.14      0.10       159\n",
            "     mystery        0.07      0.12      0.09       192\n",
            "        news        0.13      0.26      0.18        98\n",
            "  reality-tv        0.28      0.36      0.31       687\n",
            "     romance        0.11      0.18      0.14       416\n",
            "      sci-fi        0.31      0.38      0.34       506\n",
            "       short        0.36      0.34      0.35      5386\n",
            "       sport        0.34      0.51      0.41       288\n",
            "   talk-show        0.23      0.41      0.30       229\n",
            "    thriller        0.19      0.20      0.20      1474\n",
            "         war        0.15      0.27      0.19        74\n",
            "     western        0.79      0.82      0.81      1022\n",
            "\n",
            "     accuracy                           0.52     54207\n",
            "    macro avg       0.30      0.35      0.32     54207\n",
            " weighted avg       0.54      0.52      0.53     54207\n",
            "\n"
          ]
        }
      ],
      "source": [
        "svm = LinearSVC()\n",
        "svm.fit(x_train1 ,y_train)\n",
        "print(\"Model Score on Training data\",svm.score(x_train1 ,y_train))\n",
        "print(\"Model Score on Training data\",svm.score(x_test1 ,y_test))\n",
        "y_pred = svm.predict(x_test1)\n",
        "print(classification_report(y_pred ,y_test))"
      ]
    },
    {
      "cell_type": "code",
      "execution_count": null,
      "metadata": {
        "colab": {
          "background_save": true
        },
        "id": "YAIXGIdBw_oJ",
        "outputId": "85e16e80-c2c4-4cf6-bdcd-ce2e0ba1a752"
      },
      "outputs": [
        {
          "name": "stdout",
          "output_type": "stream",
          "text": [
            "Random Forest - Train Score: 0.9995203571494456\n",
            "Random Forest - Test Score: 0.48949397679266515\n"
          ]
        },
        {
          "name": "stderr",
          "output_type": "stream",
          "text": [
            "/usr/local/lib/python3.10/dist-packages/sklearn/metrics/_classification.py:1344: UndefinedMetricWarning: Recall and F-score are ill-defined and being set to 0.0 in labels with no true samples. Use `zero_division` parameter to control this behavior.\n",
            "  _warn_prf(average, modifier, msg_start, len(result))\n",
            "/usr/local/lib/python3.10/dist-packages/sklearn/metrics/_classification.py:1344: UndefinedMetricWarning: Recall and F-score are ill-defined and being set to 0.0 in labels with no true samples. Use `zero_division` parameter to control this behavior.\n",
            "  _warn_prf(average, modifier, msg_start, len(result))\n"
          ]
        },
        {
          "name": "stdout",
          "output_type": "stream",
          "text": [
            "               precision    recall  f1-score   support\n",
            "\n",
            "      action        0.01      0.80      0.02        15\n",
            "       adult        0.07      0.63      0.13        67\n",
            "   adventure        0.07      0.78      0.13        74\n",
            "   animation        0.00      1.00      0.00         1\n",
            "   biography        0.00      0.00      0.00         1\n",
            "      comedy        0.26      0.55      0.35      3492\n",
            "       crime        0.00      1.00      0.01         2\n",
            " documentary        0.89      0.56      0.69     20709\n",
            "       drama        0.85      0.41      0.55     28351\n",
            "      family        0.02      0.86      0.03        14\n",
            "     fantasy        0.00      0.00      0.00         0\n",
            "   game-show        0.47      0.87      0.61       100\n",
            "     history        0.00      1.00      0.01         1\n",
            "      horror        0.12      0.78      0.21       323\n",
            "       music        0.09      0.81      0.17        84\n",
            "     musical        0.01      1.00      0.03         4\n",
            "     mystery        0.00      0.00      0.00         0\n",
            "        news        0.00      0.00      0.00         0\n",
            "  reality-tv        0.01      0.71      0.01         7\n",
            "     romance        0.00      0.50      0.00         2\n",
            "      sci-fi        0.02      0.75      0.04        16\n",
            "       short        0.07      0.74      0.12       460\n",
            "       sport        0.10      0.90      0.18        48\n",
            "   talk-show        0.04      0.89      0.08        18\n",
            "    thriller        0.01      0.36      0.01        22\n",
            "         war        0.03      1.00      0.06         4\n",
            "     western        0.36      0.96      0.52       392\n",
            "\n",
            "     accuracy                           0.49     54207\n",
            "    macro avg       0.13      0.66      0.15     54207\n",
            " weighted avg       0.81      0.49      0.58     54207\n",
            "\n"
          ]
        },
        {
          "name": "stderr",
          "output_type": "stream",
          "text": [
            "/usr/local/lib/python3.10/dist-packages/sklearn/metrics/_classification.py:1344: UndefinedMetricWarning: Recall and F-score are ill-defined and being set to 0.0 in labels with no true samples. Use `zero_division` parameter to control this behavior.\n",
            "  _warn_prf(average, modifier, msg_start, len(result))\n"
          ]
        }
      ],
      "source": [
        "random_forest = RandomForestClassifier()\n",
        "\n",
        "random_forest.fit(x_train1, y_train)\n",
        "print(\"Random Forest - Train Score:\",random_forest.score(x_train1, y_train))\n",
        "print(\"Random Forest - Test Score:\", random_forest.score(x_test1, y_test))\n",
        "\n",
        "y_pred = random_forest.predict(x_test1)\n",
        "print(classification_report(y_pred ,y_test))"
      ]
    },
    {
      "cell_type": "markdown",
      "metadata": {
        "id": "P47xNqdIxKFl"
      },
      "source": [
        "Using TF-IDF Vectorizer"
      ]
    },
    {
      "cell_type": "code",
      "execution_count": null,
      "metadata": {
        "colab": {
          "background_save": true
        },
        "id": "-CJjh8AVxM0Q"
      },
      "outputs": [],
      "source": [
        "vectorizer = TfidfVectorizer()\n",
        "x_train2 = vectorize.fit_transform(x_train)\n",
        "x_test2 =  vectorize.transform(x_test)"
      ]
    },
    {
      "cell_type": "code",
      "execution_count": null,
      "metadata": {
        "colab": {
          "background_save": true
        },
        "id": "syfQB5qPxQIU",
        "outputId": "8fa1ab27-027c-445c-f8e5-502c26dc9d72"
      },
      "outputs": [
        {
          "name": "stdout",
          "output_type": "stream",
          "text": [
            "Model Score on Training data 0.6389580681461804\n",
            "Model Score on Training data 0.5252827125647979\n"
          ]
        },
        {
          "name": "stderr",
          "output_type": "stream",
          "text": [
            "/usr/local/lib/python3.10/dist-packages/sklearn/metrics/_classification.py:1344: UndefinedMetricWarning: Recall and F-score are ill-defined and being set to 0.0 in labels with no true samples. Use `zero_division` parameter to control this behavior.\n",
            "  _warn_prf(average, modifier, msg_start, len(result))\n",
            "/usr/local/lib/python3.10/dist-packages/sklearn/metrics/_classification.py:1344: UndefinedMetricWarning: Recall and F-score are ill-defined and being set to 0.0 in labels with no true samples. Use `zero_division` parameter to control this behavior.\n",
            "  _warn_prf(average, modifier, msg_start, len(result))\n"
          ]
        },
        {
          "name": "stdout",
          "output_type": "stream",
          "text": [
            "               precision    recall  f1-score   support\n",
            "\n",
            "      action        0.03      0.69      0.06        58\n",
            "       adult        0.03      0.51      0.06        35\n",
            "   adventure        0.03      0.52      0.06        52\n",
            "   animation        0.00      0.00      0.00         0\n",
            "   biography        0.00      0.00      0.00         0\n",
            "      comedy        0.44      0.53      0.48      6217\n",
            "       crime        0.00      0.00      0.00         0\n",
            " documentary        0.90      0.57      0.70     20874\n",
            "       drama        0.83      0.46      0.59     24428\n",
            "      family        0.00      1.00      0.01         2\n",
            "     fantasy        0.00      0.00      0.00        13\n",
            "   game-show        0.13      1.00      0.24        25\n",
            "     history        0.00      0.00      0.00         0\n",
            "      horror        0.30      0.74      0.42       854\n",
            "       music        0.04      0.75      0.08        40\n",
            "     musical        0.00      1.00      0.01         1\n",
            "     mystery        0.00      0.00      0.00         0\n",
            "        news        0.00      0.00      0.00         0\n",
            "  reality-tv        0.01      0.67      0.01         9\n",
            "     romance        0.00      0.00      0.00         0\n",
            "      sci-fi        0.01      0.80      0.01         5\n",
            "       short        0.12      0.67      0.21       909\n",
            "       sport        0.11      0.78      0.19        60\n",
            "   talk-show        0.00      0.00      0.00         0\n",
            "    thriller        0.00      0.33      0.01        21\n",
            "         war        0.00      0.00      0.00         0\n",
            "     western        0.56      0.98      0.71       604\n",
            "\n",
            "     accuracy                           0.53     54207\n",
            "    macro avg       0.13      0.44      0.14     54207\n",
            " weighted avg       0.78      0.53      0.61     54207\n",
            "\n"
          ]
        },
        {
          "name": "stderr",
          "output_type": "stream",
          "text": [
            "/usr/local/lib/python3.10/dist-packages/sklearn/metrics/_classification.py:1344: UndefinedMetricWarning: Recall and F-score are ill-defined and being set to 0.0 in labels with no true samples. Use `zero_division` parameter to control this behavior.\n",
            "  _warn_prf(average, modifier, msg_start, len(result))\n"
          ]
        }
      ],
      "source": [
        "mnb = MultinomialNB()\n",
        "mnb.fit(x_train2 ,y_train)\n",
        "print(\"Model Score on Training data\",mnb.score(x_train2 ,y_train))\n",
        "print(\"Model Score on Training data\",mnb.score(x_test2 ,y_test))\n",
        "y_pred = mnb.predict(x_test2)\n",
        "print(classification_report(y_pred ,y_test))"
      ]
    },
    {
      "cell_type": "code",
      "execution_count": null,
      "metadata": {
        "colab": {
          "background_save": true
        },
        "id": "vCcvFA7xxRFs",
        "outputId": "6d8b9568-d861-44ca-cb6e-e0ed252df1c8"
      },
      "outputs": [
        {
          "name": "stderr",
          "output_type": "stream",
          "text": [
            "/usr/local/lib/python3.10/dist-packages/sklearn/linear_model/_logistic.py:458: ConvergenceWarning: lbfgs failed to converge (status=1):\n",
            "STOP: TOTAL NO. of ITERATIONS REACHED LIMIT.\n",
            "\n",
            "Increase the number of iterations (max_iter) or scale the data as shown in:\n",
            "    https://scikit-learn.org/stable/modules/preprocessing.html\n",
            "Please also refer to the documentation for alternative solver options:\n",
            "    https://scikit-learn.org/stable/modules/linear_model.html#logistic-regression\n",
            "  n_iter_i = _check_optimize_result(\n"
          ]
        },
        {
          "name": "stdout",
          "output_type": "stream",
          "text": [
            "Model Score on Training data 0.9969745604811187\n",
            "Model Score on Training data 0.5719187558802369\n",
            "               precision    recall  f1-score   support\n",
            "\n",
            "      action        0.32      0.42      0.37      1044\n",
            "       adult        0.40      0.59      0.47       376\n",
            "   adventure        0.24      0.39      0.30       474\n",
            "   animation        0.16      0.38      0.22       203\n",
            "   biography        0.01      0.05      0.01        39\n",
            "      comedy        0.58      0.54      0.56      7966\n",
            "       crime        0.09      0.20      0.12       231\n",
            " documentary        0.79      0.71      0.75     14590\n",
            "       drama        0.69      0.56      0.62     16592\n",
            "      family        0.17      0.35      0.23       391\n",
            "     fantasy        0.10      0.30      0.15       108\n",
            "   game-show        0.58      0.80      0.67       136\n",
            "     history        0.02      0.14      0.04        42\n",
            "      horror        0.59      0.61      0.60      2081\n",
            "       music        0.52      0.64      0.57       599\n",
            "     musical        0.09      0.30      0.14        88\n",
            "     mystery        0.07      0.26      0.12        92\n",
            "        news        0.15      0.45      0.23        62\n",
            "  reality-tv        0.29      0.44      0.35       593\n",
            "     romance        0.12      0.29      0.17       288\n",
            "      sci-fi        0.34      0.48      0.40       441\n",
            "       short        0.39      0.39      0.39      5071\n",
            "       sport        0.39      0.64      0.49       268\n",
            "   talk-show        0.24      0.53      0.33       184\n",
            "    thriller        0.21      0.27      0.24      1220\n",
            "         war        0.16      0.51      0.25        43\n",
            "     western        0.81      0.88      0.84       985\n",
            "\n",
            "     accuracy                           0.57     54207\n",
            "    macro avg       0.32      0.45      0.36     54207\n",
            " weighted avg       0.62      0.57      0.59     54207\n",
            "\n"
          ]
        }
      ],
      "source": [
        "model = LogisticRegression()\n",
        "model.fit(x_train2 ,y_train)\n",
        "print(\"Model Score on Training data\",model.score(x_train2 ,y_train))\n",
        "print(\"Model Score on Training data\",model.score(x_test2 ,y_test))\n",
        "y_pred = model.predict(x_test2)\n",
        "print(classification_report(y_pred ,y_test))"
      ]
    },
    {
      "cell_type": "code",
      "execution_count": null,
      "metadata": {
        "colab": {
          "background_save": true
        },
        "id": "iFyGbbcixaVM",
        "outputId": "e6abcc3c-b899-4234-a939-36e51321deba"
      },
      "outputs": [
        {
          "name": "stderr",
          "output_type": "stream",
          "text": [
            "/usr/local/lib/python3.10/dist-packages/sklearn/svm/_base.py:1244: ConvergenceWarning: Liblinear failed to converge, increase the number of iterations.\n",
            "  warnings.warn(\n"
          ]
        },
        {
          "name": "stdout",
          "output_type": "stream",
          "text": [
            "Model Score on Training data 0.9994834615455569\n",
            "Model Score on Training data 0.520560075267032\n",
            "               precision    recall  f1-score   support\n",
            "\n",
            "      action        0.28      0.32      0.30      1174\n",
            "       adult        0.40      0.49      0.44       459\n",
            "   adventure        0.23      0.30      0.26       581\n",
            "   animation        0.16      0.26      0.19       296\n",
            "   biography        0.01      0.02      0.02       135\n",
            "      comedy        0.53      0.50      0.51      7865\n",
            "       crime        0.09      0.13      0.10       350\n",
            " documentary        0.72      0.70      0.71     13612\n",
            "       drama        0.61      0.54      0.57     15267\n",
            "      family        0.17      0.25      0.21       548\n",
            "     fantasy        0.11      0.16      0.13       215\n",
            "   game-show        0.58      0.68      0.63       158\n",
            "     history        0.03      0.06      0.04       108\n",
            "      horror        0.56      0.52      0.54      2274\n",
            "       music        0.49      0.57      0.53       632\n",
            "     musical        0.08      0.14      0.10       159\n",
            "     mystery        0.07      0.12      0.09       194\n",
            "        news        0.13      0.25      0.18        99\n",
            "  reality-tv        0.28      0.36      0.31       687\n",
            "     romance        0.11      0.18      0.14       417\n",
            "      sci-fi        0.31      0.38      0.34       506\n",
            "       short        0.36      0.34      0.35      5384\n",
            "       sport        0.34      0.51      0.41       288\n",
            "   talk-show        0.23      0.41      0.30       229\n",
            "    thriller        0.19      0.20      0.20      1475\n",
            "         war        0.15      0.27      0.19        74\n",
            "     western        0.79      0.82      0.81      1021\n",
            "\n",
            "     accuracy                           0.52     54207\n",
            "    macro avg       0.30      0.35      0.32     54207\n",
            " weighted avg       0.54      0.52      0.53     54207\n",
            "\n"
          ]
        }
      ],
      "source": [
        "svm = LinearSVC()\n",
        "svm.fit(x_train2 ,y_train)\n",
        "print(\"Model Score on Training data\",svm.score(x_train2 ,y_train))\n",
        "print(\"Model Score on Training data\",svm.score(x_test2 ,y_test))\n",
        "y_pred = svm.predict(x_test2)\n",
        "print(classification_report(y_pred ,y_test))"
      ]
    },
    {
      "cell_type": "code",
      "execution_count": null,
      "metadata": {
        "colab": {
          "background_save": true
        },
        "id": "aYAcumW3xdaR",
        "outputId": "09cd0104-dca5-4b27-d5ef-d04cb9b78271"
      },
      "outputs": [
        {
          "name": "stdout",
          "output_type": "stream",
          "text": [
            "Random Forest - Train Score: 0.9995203571494456\n",
            "Random Forest - Test Score: 0.4907484273248842\n"
          ]
        },
        {
          "name": "stderr",
          "output_type": "stream",
          "text": [
            "/usr/local/lib/python3.10/dist-packages/sklearn/metrics/_classification.py:1344: UndefinedMetricWarning: Recall and F-score are ill-defined and being set to 0.0 in labels with no true samples. Use `zero_division` parameter to control this behavior.\n",
            "  _warn_prf(average, modifier, msg_start, len(result))\n",
            "/usr/local/lib/python3.10/dist-packages/sklearn/metrics/_classification.py:1344: UndefinedMetricWarning: Recall and F-score are ill-defined and being set to 0.0 in labels with no true samples. Use `zero_division` parameter to control this behavior.\n",
            "  _warn_prf(average, modifier, msg_start, len(result))\n"
          ]
        },
        {
          "name": "stdout",
          "output_type": "stream",
          "text": [
            "               precision    recall  f1-score   support\n",
            "\n",
            "      action        0.01      0.73      0.02        15\n",
            "       adult        0.05      0.75      0.09        36\n",
            "   adventure        0.09      0.71      0.15        95\n",
            "   animation        0.00      0.00      0.00         0\n",
            "   biography        0.00      0.00      0.00         1\n",
            "      comedy        0.26      0.56      0.36      3492\n",
            "       crime        0.00      1.00      0.01         2\n",
            " documentary        0.89      0.56      0.69     20754\n",
            "       drama        0.86      0.41      0.55     28315\n",
            "      family        0.02      0.88      0.03        16\n",
            "     fantasy        0.00      0.00      0.00         0\n",
            "   game-show        0.44      0.87      0.59        95\n",
            "     history        0.00      0.00      0.00         0\n",
            "      horror        0.11      0.75      0.19       313\n",
            "       music        0.10      0.76      0.17        92\n",
            "     musical        0.01      1.00      0.02         3\n",
            "     mystery        0.00      0.00      0.00         0\n",
            "        news        0.00      0.00      0.00         0\n",
            "  reality-tv        0.01      0.83      0.01         6\n",
            "     romance        0.00      0.50      0.00         2\n",
            "      sci-fi        0.01      0.78      0.02         9\n",
            "       short        0.07      0.73      0.12       473\n",
            "       sport        0.10      0.84      0.17        50\n",
            "   talk-show        0.04      0.94      0.08        18\n",
            "    thriller        0.01      0.52      0.02        27\n",
            "         war        0.03      1.00      0.06         4\n",
            "     western        0.36      0.98      0.53       389\n",
            "\n",
            "     accuracy                           0.49     54207\n",
            "    macro avg       0.13      0.60      0.14     54207\n",
            " weighted avg       0.81      0.49      0.58     54207\n",
            "\n"
          ]
        },
        {
          "name": "stderr",
          "output_type": "stream",
          "text": [
            "/usr/local/lib/python3.10/dist-packages/sklearn/metrics/_classification.py:1344: UndefinedMetricWarning: Recall and F-score are ill-defined and being set to 0.0 in labels with no true samples. Use `zero_division` parameter to control this behavior.\n",
            "  _warn_prf(average, modifier, msg_start, len(result))\n"
          ]
        }
      ],
      "source": [
        "random_forest = RandomForestClassifier()\n",
        "random_forest.fit(x_train2, y_train)\n",
        "\n",
        "print(\"Random Forest - Train Score:\",random_forest.score(x_train2, y_train))\n",
        "print(\"Random Forest - Test Score:\", random_forest.score(x_test2, y_test))\n",
        "\n",
        "y_pred = random_forest.predict(x_test2)\n",
        "print(classification_report(y_pred ,y_test))"
      ]
    }
  ],
  "metadata": {
    "colab": {
      "provenance": []
    },
    "kernelspec": {
      "display_name": "Python 3",
      "name": "python3"
    },
    "language_info": {
      "name": "python"
    }
  },
  "nbformat": 4,
  "nbformat_minor": 0
}